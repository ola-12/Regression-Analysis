{
 "cells": [
  {
   "cell_type": "code",
   "execution_count": 1,
   "id": "9bc211a8-f5e8-4871-bafb-b49cec7ab3a2",
   "metadata": {},
   "outputs": [],
   "source": [
    "#Linear Regression Equation"
   ]
  },
  {
   "cell_type": "code",
   "execution_count": 8,
   "id": "986b44e4-f2d1-44d6-b017-1f41f17faf7f",
   "metadata": {},
   "outputs": [],
   "source": [
    "import numpy as np\n",
    "import matplotlib.pyplot as plt"
   ]
  },
  {
   "cell_type": "code",
   "execution_count": 11,
   "id": "4ec96012-cf86-4320-a8fe-c5510388b11d",
   "metadata": {},
   "outputs": [],
   "source": [
    "np.random.seed(0)\n",
    "X = 3*np.random.rand(100,1)\n",
    "Y = 5 + 2*X + np.random.randn(100,1)"
   ]
  },
  {
   "cell_type": "code",
   "execution_count": 13,
   "id": "4c2882d7-07aa-499e-b8cf-197210a98cc3",
   "metadata": {},
   "outputs": [
    {
     "data": {
      "text/plain": [
       "array([[1.64644051],\n",
       "       [2.1455681 ],\n",
       "       [1.80829013],\n",
       "       [1.63464955],\n",
       "       [1.2709644 ],\n",
       "       [1.93768234],\n",
       "       [1.31276163],\n",
       "       [2.675319  ],\n",
       "       [2.89098828],\n",
       "       [1.15032456],\n",
       "       [2.37517511],\n",
       "       [1.58668476],\n",
       "       [1.70413368],\n",
       "       [2.77678991],\n",
       "       [0.21310817],\n",
       "       [0.2613879 ],\n",
       "       [0.06065519],\n",
       "       [2.49785954],\n",
       "       [2.33447025],\n",
       "       [2.61003644],\n",
       "       [2.93585503],\n",
       "       [2.39747569],\n",
       "       [1.38443809],\n",
       "       [2.34158753],\n",
       "       [0.35482328],\n",
       "       [1.91976306],\n",
       "       [0.43005986],\n",
       "       [2.83400675],\n",
       "       [1.56554497],\n",
       "       [1.24398582],\n",
       "       [0.79366684],\n",
       "       [2.32270107],\n",
       "       [1.368451  ],\n",
       "       [1.70530185],\n",
       "       [0.0563694 ],\n",
       "       [1.85290649],\n",
       "       [1.83628717],\n",
       "       [1.85080199],\n",
       "       [2.83124424],\n",
       "       [2.0454609 ],\n",
       "       [1.0785237 ],\n",
       "       [1.31109586],\n",
       "       [2.09289359],\n",
       "       [0.18067641],\n",
       "       [2.00030015],\n",
       "       [2.01191361],\n",
       "       [0.63114768],\n",
       "       [0.38677889],\n",
       "       [0.94628505],\n",
       "       [1.09113231],\n",
       "       [1.71059031],\n",
       "       [1.31580454],\n",
       "       [2.96512151],\n",
       "       [0.30613443],\n",
       "       [0.62663027],\n",
       "       [0.48392855],\n",
       "       [1.95932498],\n",
       "       [0.75987481],\n",
       "       [1.39893232],\n",
       "       [0.73327678],\n",
       "       [0.47690875],\n",
       "       [0.33112542],\n",
       "       [1.96898877],\n",
       "       [0.41454885],\n",
       "       [0.58974709],\n",
       "       [1.10617551],\n",
       "       [2.46297969],\n",
       "       [0.29130383],\n",
       "       [2.51383472],\n",
       "       [0.28829522],\n",
       "       [2.9293784 ],\n",
       "       [1.4059536 ],\n",
       "       [2.93028326],\n",
       "       [1.81453656],\n",
       "       [2.21779074],\n",
       "       [0.11756338],\n",
       "       [0.84842089],\n",
       "       [0.36058968],\n",
       "       [0.88842059],\n",
       "       [0.35618316],\n",
       "       [0.95394954],\n",
       "       [1.24278898],\n",
       "       [0.19244249],\n",
       "       [2.07741636],\n",
       "       [1.69980436],\n",
       "       [0.79616847],\n",
       "       [1.56974416],\n",
       "       [0.28182153],\n",
       "       [1.72783949],\n",
       "       [2.78788859],\n",
       "       [0.95570686],\n",
       "       [2.00223114],\n",
       "       [0.39539359],\n",
       "       [2.14898161],\n",
       "       [0.86821828],\n",
       "       [0.54957409],\n",
       "       [1.7595388 ],\n",
       "       [0.06032264],\n",
       "       [2.48682009],\n",
       "       [0.01408643]])"
      ]
     },
     "execution_count": 13,
     "metadata": {},
     "output_type": "execute_result"
    }
   ],
   "source": [
    "X"
   ]
  },
  {
   "cell_type": "code",
   "execution_count": 14,
   "id": "8fbd5a33-644e-4f10-abe9-5bcc28853838",
   "metadata": {},
   "outputs": [
    {
     "data": {
      "text/plain": [
       "(100, 1)"
      ]
     },
     "execution_count": 14,
     "metadata": {},
     "output_type": "execute_result"
    }
   ],
   "source": [
    "X.shape"
   ]
  },
  {
   "cell_type": "code",
   "execution_count": 18,
   "id": "da345d45-0cb0-4ed4-8088-e9396699b8cd",
   "metadata": {},
   "outputs": [
    {
     "data": {
      "image/png": "[encoded data removed]",
      "text/plain": [
       "<Figure size 640x480 with 1 Axes>"
      ]
     },
     "metadata": {},
     "output_type": "display_data"
    }
   ],
   "source": [
    "plt.scatter(X,Y)\n",
    "plt.title(\"Data\")\n",
    "plt.xlabel(\"X - Data\")\n",
    "plt.ylabel(\"Y - Outout\")\n",
    "plt.show()"
   ]
  },
  {
   "cell_type": "code",
   "execution_count": 21,
   "id": "0df1007c-d7c7-44ad-9bf3-53c778273d2a",
   "metadata": {},
   "outputs": [],
   "source": [
    "Xb = np.c_[np.ones((100,1)),X]"
   ]
  },
  {
   "cell_type": "code",
   "execution_count": 22,
   "id": "2f4c7d16-9131-416b-babb-f6d182e30fbc",
   "metadata": {},
   "outputs": [
    {
     "data": {
      "text/plain": [
       "(100, 2)"
      ]
     },
     "execution_count": 22,
     "metadata": {},
     "output_type": "execute_result"
    }
   ],
   "source": [
    "Xb.shape"
   ]
  },
  {
   "cell_type": "code",
   "execution_count": 25,
   "id": "8454fd2e-5f28-4636-9786-f2173fd47664",
   "metadata": {},
   "outputs": [
    {
     "data": {
      "text/plain": [
       "array([[1.        , 1.64644051],\n",
       "       [1.        , 2.1455681 ],\n",
       "       [1.        , 1.80829013],\n",
       "       [1.        , 1.63464955],\n",
       "       [1.        , 1.2709644 ],\n",
       "       [1.        , 1.93768234],\n",
       "       [1.        , 1.31276163],\n",
       "       [1.        , 2.675319  ],\n",
       "       [1.        , 2.89098828],\n",
       "       [1.        , 1.15032456],\n",
       "       [1.        , 2.37517511],\n",
       "       [1.        , 1.58668476],\n",
       "       [1.        , 1.70413368],\n",
       "       [1.        , 2.77678991],\n",
       "       [1.        , 0.21310817],\n",
       "       [1.        , 0.2613879 ],\n",
       "       [1.        , 0.06065519],\n",
       "       [1.        , 2.49785954],\n",
       "       [1.        , 2.33447025],\n",
       "       [1.        , 2.61003644],\n",
       "       [1.        , 2.93585503],\n",
       "       [1.        , 2.39747569],\n",
       "       [1.        , 1.38443809],\n",
       "       [1.        , 2.34158753],\n",
       "       [1.        , 0.35482328],\n",
       "       [1.        , 1.91976306],\n",
       "       [1.        , 0.43005986],\n",
       "       [1.        , 2.83400675],\n",
       "       [1.        , 1.56554497],\n",
       "       [1.        , 1.24398582],\n",
       "       [1.        , 0.79366684],\n",
       "       [1.        , 2.32270107],\n",
       "       [1.        , 1.368451  ],\n",
       "       [1.        , 1.70530185],\n",
       "       [1.        , 0.0563694 ],\n",
       "       [1.        , 1.85290649],\n",
       "       [1.        , 1.83628717],\n",
       "       [1.        , 1.85080199],\n",
       "       [1.        , 2.83124424],\n",
       "       [1.        , 2.0454609 ],\n",
       "       [1.        , 1.0785237 ],\n",
       "       [1.        , 1.31109586],\n",
       "       [1.        , 2.09289359],\n",
       "       [1.        , 0.18067641],\n",
       "       [1.        , 2.00030015],\n",
       "       [1.        , 2.01191361],\n",
       "       [1.        , 0.63114768],\n",
       "       [1.        , 0.38677889],\n",
       "       [1.        , 0.94628505],\n",
       "       [1.        , 1.09113231],\n",
       "       [1.        , 1.71059031],\n",
       "       [1.        , 1.31580454],\n",
       "       [1.        , 2.96512151],\n",
       "       [1.        , 0.30613443],\n",
       "       [1.        , 0.62663027],\n",
       "       [1.        , 0.48392855],\n",
       "       [1.        , 1.95932498],\n",
       "       [1.        , 0.75987481],\n",
       "       [1.        , 1.39893232],\n",
       "       [1.        , 0.73327678],\n",
       "       [1.        , 0.47690875],\n",
       "       [1.        , 0.33112542],\n",
       "       [1.        , 1.96898877],\n",
       "       [1.        , 0.41454885],\n",
       "       [1.        , 0.58974709],\n",
       "       [1.        , 1.10617551],\n",
       "       [1.        , 2.46297969],\n",
       "       [1.        , 0.29130383],\n",
       "       [1.        , 2.51383472],\n",
       "       [1.        , 0.28829522],\n",
       "       [1.        , 2.9293784 ],\n",
       "       [1.        , 1.4059536 ],\n",
       "       [1.        , 2.93028326],\n",
       "       [1.        , 1.81453656],\n",
       "       [1.        , 2.21779074],\n",
       "       [1.        , 0.11756338],\n",
       "       [1.        , 0.84842089],\n",
       "       [1.        , 0.36058968],\n",
       "       [1.        , 0.88842059],\n",
       "       [1.        , 0.35618316],\n",
       "       [1.        , 0.95394954],\n",
       "       [1.        , 1.24278898],\n",
       "       [1.        , 0.19244249],\n",
       "       [1.        , 2.07741636],\n",
       "       [1.        , 1.69980436],\n",
       "       [1.        , 0.79616847],\n",
       "       [1.        , 1.56974416],\n",
       "       [1.        , 0.28182153],\n",
       "       [1.        , 1.72783949],\n",
       "       [1.        , 2.78788859],\n",
       "       [1.        , 0.95570686],\n",
       "       [1.        , 2.00223114],\n",
       "       [1.        , 0.39539359],\n",
       "       [1.        , 2.14898161],\n",
       "       [1.        , 0.86821828],\n",
       "       [1.        , 0.54957409],\n",
       "       [1.        , 1.7595388 ],\n",
       "       [1.        , 0.06032264],\n",
       "       [1.        , 2.48682009],\n",
       "       [1.        , 0.01408643]])"
      ]
     },
     "execution_count": 25,
     "metadata": {},
     "output_type": "execute_result"
    }
   ],
   "source": [
    "Xb"
   ]
  },
  {
   "cell_type": "code",
   "execution_count": 27,
   "id": "6db63eda-6bc4-4084-8349-5e346e3638e4",
   "metadata": {},
   "outputs": [],
   "source": [
    "theta = np.linalg.inv(Xb.T.dot(Xb)).dot(Xb.T).dot(Y)"
   ]
  },
  {
   "cell_type": "code",
   "execution_count": 28,
   "id": "bb49301c-f7e3-43dd-b76f-ef5401cc026b",
   "metadata": {},
   "outputs": [
    {
     "data": {
      "text/plain": [
       "array([[5.22215108],\n",
       "       [1.97897834]])"
      ]
     },
     "execution_count": 28,
     "metadata": {},
     "output_type": "execute_result"
    }
   ],
   "source": [
    "theta"
   ]
  },
  {
   "cell_type": "code",
   "execution_count": 29,
   "id": "39efb6be-ea62-42e5-b9e7-24c4118e08b5",
   "metadata": {},
   "outputs": [],
   "source": [
    "#Creating a new regression line"
   ]
  },
  {
   "cell_type": "code",
   "execution_count": 31,
   "id": "6228dc22-275c-4020-a15d-304c827fea0d",
   "metadata": {},
   "outputs": [
    {
     "data": {
      "text/plain": [
       "array([[ 5.22215108],\n",
       "       [11.1590861 ]])"
      ]
     },
     "execution_count": 31,
     "metadata": {},
     "output_type": "execute_result"
    }
   ],
   "source": [
    "X_new = np.array([[0], [3]])\n",
    "X_new_b = np.c_[np.ones((2, 1)),X_new]\n",
    "y_pred = X_new_b.dot(theta)\n",
    "y_pred"
   ]
  },
  {
   "cell_type": "code",
   "execution_count": 32,
   "id": "fb94def1-ca48-4b80-a47b-c62f422f901e",
   "metadata": {},
   "outputs": [],
   "source": [
    "#Plotting the data points along with some regression line we have just solved"
   ]
  },
  {
   "cell_type": "code",
   "execution_count": 34,
   "id": "bc990fcc-4667-47d3-9ce5-8a194eef7253",
   "metadata": {},
   "outputs": [
    {
     "data": {
      "image/png": "[encoded data removed]",
      "text/plain": [
       "<Figure size 640x480 with 1 Axes>"
      ]
     },
     "metadata": {},
     "output_type": "display_data"
    }
   ],
   "source": [
    "plt.plot(X_new, y_pred, \"r-\", label = \"Regression line\")\n",
    "plt.scatter(X,Y)\n",
    "plt.title(\"Data\")\n",
    "plt.xlabel(\"X - Data\")\n",
    "plt.ylabel(\"Y - Outout\")\n",
    "plt.legend()\n",
    "plt.show()\n"
   ]
  },
  {
   "cell_type": "code",
   "execution_count": 37,
   "id": "9b61661b-ccae-4dc1-b909-ae5325db2086",
   "metadata": {},
   "outputs": [
    {
     "data": {
      "text/html": [
       "<style>#sk-container-id-1 {\n",
       "  /* Definition of color scheme common for light and dark mode */\n",
       "  --sklearn-color-text: black;\n",
       "  --sklearn-color-line: gray;\n",
       "  /* Definition of color scheme for unfitted estimators */\n",
       "  --sklearn-color-unfitted-level-0: #fff5e6;\n",
       "  --sklearn-color-unfitted-level-1: #f6e4d2;\n",
       "  --sklearn-color-unfitted-level-2: #ffe0b3;\n",
       "  --sklearn-color-unfitted-level-3: chocolate;\n",
       "  /* Definition of color scheme for fitted estimators */\n",
       "  --sklearn-color-fitted-level-0: #f0f8ff;\n",
       "  --sklearn-color-fitted-level-1: #d4ebff;\n",
       "  --sklearn-color-fitted-level-2: #b3dbfd;\n",
       "  --sklearn-color-fitted-level-3: cornflowerblue;\n",
       "\n",
       "  /* Specific color for light theme */\n",
       "  --sklearn-color-text-on-default-background: var(--sg-text-color, var(--theme-code-foreground, var(--jp-content-font-color1, black)));\n",
       "  --sklearn-color-background: var(--sg-background-color, var(--theme-background, var(--jp-layout-color0, white)));\n",
       "  --sklearn-color-border-box: var(--sg-text-color, var(--theme-code-foreground, var(--jp-content-font-color1, black)));\n",
       "  --sklearn-color-icon: #696969;\n",
       "\n",
       "  @media (prefers-color-scheme: dark) {\n",
       "    /* Redefinition of color scheme for dark theme */\n",
       "    --sklearn-color-text-on-default-background: var(--sg-text-color, var(--theme-code-foreground, var(--jp-content-font-color1, white)));\n",
       "    --sklearn-color-background: var(--sg-background-color, var(--theme-background, var(--jp-layout-color0, #111)));\n",
       "    --sklearn-color-border-box: var(--sg-text-color, var(--theme-code-foreground, var(--jp-content-font-color1, white)));\n",
       "    --sklearn-color-icon: #878787;\n",
       "  }\n",
       "}\n",
       "\n",
       "#sk-container-id-1 {\n",
       "  color: var(--sklearn-color-text);\n",
       "}\n",
       "\n",
       "#sk-container-id-1 pre {\n",
       "  padding: 0;\n",
       "}\n",
       "\n",
       "#sk-container-id-1 input.sk-hidden--visually {\n",
       "  border: 0;\n",
       "  clip: rect(1px 1px 1px 1px);\n",
       "  clip: rect(1px, 1px, 1px, 1px);\n",
       "  height: 1px;\n",
       "  margin: -1px;\n",
       "  overflow: hidden;\n",
       "  padding: 0;\n",
       "  position: absolute;\n",
       "  width: 1px;\n",
       "}\n",
       "\n",
       "#sk-container-id-1 div.sk-dashed-wrapped {\n",
       "  border: 1px dashed var(--sklearn-color-line);\n",
       "  margin: 0 0.4em 0.5em 0.4em;\n",
       "  box-sizing: border-box;\n",
       "  padding-bottom: 0.4em;\n",
       "  background-color: var(--sklearn-color-background);\n",
       "}\n",
       "\n",
       "#sk-container-id-1 div.sk-container {\n",
       "  /* jupyter's `normalize.less` sets `[hidden] { display: none; }`\n",
       "     but bootstrap.min.css set `[hidden] { display: none !important; }`\n",
       "     so we also need the `!important` here to be able to override the\n",
       "     default hidden behavior on the sphinx rendered scikit-learn.org.\n",
       "     See: https://github.com/scikit-learn/scikit-learn/issues/21755 */\n",
       "  display: inline-block !important;\n",
       "  position: relative;\n",
       "}\n",
       "\n",
       "#sk-container-id-1 div.sk-text-repr-fallback {\n",
       "  display: none;\n",
       "}\n",
       "\n",
       "div.sk-parallel-item,\n",
       "div.sk-serial,\n",
       "div.sk-item {\n",
       "  /* draw centered vertical line to link estimators */\n",
       "  background-image: linear-gradient(var(--sklearn-color-text-on-default-background), var(--sklearn-color-text-on-default-background));\n",
       "  background-size: 2px 100%;\n",
       "  background-repeat: no-repeat;\n",
       "  background-position: center center;\n",
       "}\n",
       "\n",
       "/* Parallel-specific style estimator block */\n",
       "\n",
       "#sk-container-id-1 div.sk-parallel-item::after {\n",
       "  content: \"\";\n",
       "  width: 100%;\n",
       "  border-bottom: 2px solid var(--sklearn-color-text-on-default-background);\n",
       "  flex-grow: 1;\n",
       "}\n",
       "\n",
       "#sk-container-id-1 div.sk-parallel {\n",
       "  display: flex;\n",
       "  align-items: stretch;\n",
       "  justify-content: center;\n",
       "  background-color: var(--sklearn-color-background);\n",
       "  position: relative;\n",
       "}\n",
       "\n",
       "#sk-container-id-1 div.sk-parallel-item {\n",
       "  display: flex;\n",
       "  flex-direction: column;\n",
       "}\n",
       "\n",
       "#sk-container-id-1 div.sk-parallel-item:first-child::after {\n",
       "  align-self: flex-end;\n",
       "  width: 50%;\n",
       "}\n",
       "\n",
       "#sk-container-id-1 div.sk-parallel-item:last-child::after {\n",
       "  align-self: flex-start;\n",
       "  width: 50%;\n",
       "}\n",
       "\n",
       "#sk-container-id-1 div.sk-parallel-item:only-child::after {\n",
       "  width: 0;\n",
       "}\n",
       "\n",
       "/* Serial-specific style estimator block */\n",
       "\n",
       "#sk-container-id-1 div.sk-serial {\n",
       "  display: flex;\n",
       "  flex-direction: column;\n",
       "  align-items: center;\n",
       "  background-color: var(--sklearn-color-background);\n",
       "  padding-right: 1em;\n",
       "  padding-left: 1em;\n",
       "}\n",
       "\n",
       "\n",
       "/* Toggleable style: style used for estimator/Pipeline/ColumnTransformer box that is\n",
       "clickable and can be expanded/collapsed.\n",
       "- Pipeline and ColumnTransformer use this feature and define the default style\n",
       "- Estimators will overwrite some part of the style using the `sk-estimator` class\n",
       "*/\n",
       "\n",
       "/* Pipeline and ColumnTransformer style (default) */\n",
       "\n",
       "#sk-container-id-1 div.sk-toggleable {\n",
       "  /* Default theme specific background. It is overwritten whether we have a\n",
       "  specific estimator or a Pipeline/ColumnTransformer */\n",
       "  background-color: var(--sklearn-color-background);\n",
       "}\n",
       "\n",
       "/* Toggleable label */\n",
       "#sk-container-id-1 label.sk-toggleable__label {\n",
       "  cursor: pointer;\n",
       "  display: block;\n",
       "  width: 100%;\n",
       "  margin-bottom: 0;\n",
       "  padding: 0.5em;\n",
       "  box-sizing: border-box;\n",
       "  text-align: center;\n",
       "}\n",
       "\n",
       "#sk-container-id-1 label.sk-toggleable__label-arrow:before {\n",
       "  /* Arrow on the left of the label */\n",
       "  content: \"▸\";\n",
       "  float: left;\n",
       "  margin-right: 0.25em;\n",
       "  color: var(--sklearn-color-icon);\n",
       "}\n",
       "\n",
       "#sk-container-id-1 label.sk-toggleable__label-arrow:hover:before {\n",
       "  color: var(--sklearn-color-text);\n",
       "}\n",
       "\n",
       "/* Toggleable content - dropdown */\n",
       "\n",
       "#sk-container-id-1 div.sk-toggleable__content {\n",
       "  max-height: 0;\n",
       "  max-width: 0;\n",
       "  overflow: hidden;\n",
       "  text-align: left;\n",
       "  /* unfitted */\n",
       "  background-color: var(--sklearn-color-unfitted-level-0);\n",
       "}\n",
       "\n",
       "#sk-container-id-1 div.sk-toggleable__content.fitted {\n",
       "  /* fitted */\n",
       "  background-color: var(--sklearn-color-fitted-level-0);\n",
       "}\n",
       "\n",
       "#sk-container-id-1 div.sk-toggleable__content pre {\n",
       "  margin: 0.2em;\n",
       "  border-radius: 0.25em;\n",
       "  color: var(--sklearn-color-text);\n",
       "  /* unfitted */\n",
       "  background-color: var(--sklearn-color-unfitted-level-0);\n",
       "}\n",
       "\n",
       "#sk-container-id-1 div.sk-toggleable__content.fitted pre {\n",
       "  /* unfitted */\n",
       "  background-color: var(--sklearn-color-fitted-level-0);\n",
       "}\n",
       "\n",
       "#sk-container-id-1 input.sk-toggleable__control:checked~div.sk-toggleable__content {\n",
       "  /* Expand drop-down */\n",
       "  max-height: 200px;\n",
       "  max-width: 100%;\n",
       "  overflow: auto;\n",
       "}\n",
       "\n",
       "#sk-container-id-1 input.sk-toggleable__control:checked~label.sk-toggleable__label-arrow:before {\n",
       "  content: \"▾\";\n",
       "}\n",
       "\n",
       "/* Pipeline/ColumnTransformer-specific style */\n",
       "\n",
       "#sk-container-id-1 div.sk-label input.sk-toggleable__control:checked~label.sk-toggleable__label {\n",
       "  color: var(--sklearn-color-text);\n",
       "  background-color: var(--sklearn-color-unfitted-level-2);\n",
       "}\n",
       "\n",
       "#sk-container-id-1 div.sk-label.fitted input.sk-toggleable__control:checked~label.sk-toggleable__label {\n",
       "  background-color: var(--sklearn-color-fitted-level-2);\n",
       "}\n",
       "\n",
       "/* Estimator-specific style */\n",
       "\n",
       "/* Colorize estimator box */\n",
       "#sk-container-id-1 div.sk-estimator input.sk-toggleable__control:checked~label.sk-toggleable__label {\n",
       "  /* unfitted */\n",
       "  background-color: var(--sklearn-color-unfitted-level-2);\n",
       "}\n",
       "\n",
       "#sk-container-id-1 div.sk-estimator.fitted input.sk-toggleable__control:checked~label.sk-toggleable__label {\n",
       "  /* fitted */\n",
       "  background-color: var(--sklearn-color-fitted-level-2);\n",
       "}\n",
       "\n",
       "#sk-container-id-1 div.sk-label label.sk-toggleable__label,\n",
       "#sk-container-id-1 div.sk-label label {\n",
       "  /* The background is the default theme color */\n",
       "  color: var(--sklearn-color-text-on-default-background);\n",
       "}\n",
       "\n",
       "/* On hover, darken the color of the background */\n",
       "#sk-container-id-1 div.sk-label:hover label.sk-toggleable__label {\n",
       "  color: var(--sklearn-color-text);\n",
       "  background-color: var(--sklearn-color-unfitted-level-2);\n",
       "}\n",
       "\n",
       "/* Label box, darken color on hover, fitted */\n",
       "#sk-container-id-1 div.sk-label.fitted:hover label.sk-toggleable__label.fitted {\n",
       "  color: var(--sklearn-color-text);\n",
       "  background-color: var(--sklearn-color-fitted-level-2);\n",
       "}\n",
       "\n",
       "/* Estimator label */\n",
       "\n",
       "#sk-container-id-1 div.sk-label label {\n",
       "  font-family: monospace;\n",
       "  font-weight: bold;\n",
       "  display: inline-block;\n",
       "  line-height: 1.2em;\n",
       "}\n",
       "\n",
       "#sk-container-id-1 div.sk-label-container {\n",
       "  text-align: center;\n",
       "}\n",
       "\n",
       "/* Estimator-specific */\n",
       "#sk-container-id-1 div.sk-estimator {\n",
       "  font-family: monospace;\n",
       "  border: 1px dotted var(--sklearn-color-border-box);\n",
       "  border-radius: 0.25em;\n",
       "  box-sizing: border-box;\n",
       "  margin-bottom: 0.5em;\n",
       "  /* unfitted */\n",
       "  background-color: var(--sklearn-color-unfitted-level-0);\n",
       "}\n",
       "\n",
       "#sk-container-id-1 div.sk-estimator.fitted {\n",
       "  /* fitted */\n",
       "  background-color: var(--sklearn-color-fitted-level-0);\n",
       "}\n",
       "\n",
       "/* on hover */\n",
       "#sk-container-id-1 div.sk-estimator:hover {\n",
       "  /* unfitted */\n",
       "  background-color: var(--sklearn-color-unfitted-level-2);\n",
       "}\n",
       "\n",
       "#sk-container-id-1 div.sk-estimator.fitted:hover {\n",
       "  /* fitted */\n",
       "  background-color: var(--sklearn-color-fitted-level-2);\n",
       "}\n",
       "\n",
       "/* Specification for estimator info (e.g. \"i\" and \"?\") */\n",
       "\n",
       "/* Common style for \"i\" and \"?\" */\n",
       "\n",
       ".sk-estimator-doc-link,\n",
       "a:link.sk-estimator-doc-link,\n",
       "a:visited.sk-estimator-doc-link {\n",
       "  float: right;\n",
       "  font-size: smaller;\n",
       "  line-height: 1em;\n",
       "  font-family: monospace;\n",
       "  background-color: var(--sklearn-color-background);\n",
       "  border-radius: 1em;\n",
       "  height: 1em;\n",
       "  width: 1em;\n",
       "  text-decoration: none !important;\n",
       "  margin-left: 1ex;\n",
       "  /* unfitted */\n",
       "  border: var(--sklearn-color-unfitted-level-1) 1pt solid;\n",
       "  color: var(--sklearn-color-unfitted-level-1);\n",
       "}\n",
       "\n",
       ".sk-estimator-doc-link.fitted,\n",
       "a:link.sk-estimator-doc-link.fitted,\n",
       "a:visited.sk-estimator-doc-link.fitted {\n",
       "  /* fitted */\n",
       "  border: var(--sklearn-color-fitted-level-1) 1pt solid;\n",
       "  color: var(--sklearn-color-fitted-level-1);\n",
       "}\n",
       "\n",
       "/* On hover */\n",
       "div.sk-estimator:hover .sk-estimator-doc-link:hover,\n",
       ".sk-estimator-doc-link:hover,\n",
       "div.sk-label-container:hover .sk-estimator-doc-link:hover,\n",
       ".sk-estimator-doc-link:hover {\n",
       "  /* unfitted */\n",
       "  background-color: var(--sklearn-color-unfitted-level-3);\n",
       "  color: var(--sklearn-color-background);\n",
       "  text-decoration: none;\n",
       "}\n",
       "\n",
       "div.sk-estimator.fitted:hover .sk-estimator-doc-link.fitted:hover,\n",
       ".sk-estimator-doc-link.fitted:hover,\n",
       "div.sk-label-container:hover .sk-estimator-doc-link.fitted:hover,\n",
       ".sk-estimator-doc-link.fitted:hover {\n",
       "  /* fitted */\n",
       "  background-color: var(--sklearn-color-fitted-level-3);\n",
       "  color: var(--sklearn-color-background);\n",
       "  text-decoration: none;\n",
       "}\n",
       "\n",
       "/* Span, style for the box shown on hovering the info icon */\n",
       ".sk-estimator-doc-link span {\n",
       "  display: none;\n",
       "  z-index: 9999;\n",
       "  position: relative;\n",
       "  font-weight: normal;\n",
       "  right: .2ex;\n",
       "  padding: .5ex;\n",
       "  margin: .5ex;\n",
       "  width: min-content;\n",
       "  min-width: 20ex;\n",
       "  max-width: 50ex;\n",
       "  color: var(--sklearn-color-text);\n",
       "  box-shadow: 2pt 2pt 4pt #999;\n",
       "  /* unfitted */\n",
       "  background: var(--sklearn-color-unfitted-level-0);\n",
       "  border: .5pt solid var(--sklearn-color-unfitted-level-3);\n",
       "}\n",
       "\n",
       ".sk-estimator-doc-link.fitted span {\n",
       "  /* fitted */\n",
       "  background: var(--sklearn-color-fitted-level-0);\n",
       "  border: var(--sklearn-color-fitted-level-3);\n",
       "}\n",
       "\n",
       ".sk-estimator-doc-link:hover span {\n",
       "  display: block;\n",
       "}\n",
       "\n",
       "/* \"?\"-specific style due to the `<a>` HTML tag */\n",
       "\n",
       "#sk-container-id-1 a.estimator_doc_link {\n",
       "  float: right;\n",
       "  font-size: 1rem;\n",
       "  line-height: 1em;\n",
       "  font-family: monospace;\n",
       "  background-color: var(--sklearn-color-background);\n",
       "  border-radius: 1rem;\n",
       "  height: 1rem;\n",
       "  width: 1rem;\n",
       "  text-decoration: none;\n",
       "  /* unfitted */\n",
       "  color: var(--sklearn-color-unfitted-level-1);\n",
       "  border: var(--sklearn-color-unfitted-level-1) 1pt solid;\n",
       "}\n",
       "\n",
       "#sk-container-id-1 a.estimator_doc_link.fitted {\n",
       "  /* fitted */\n",
       "  border: var(--sklearn-color-fitted-level-1) 1pt solid;\n",
       "  color: var(--sklearn-color-fitted-level-1);\n",
       "}\n",
       "\n",
       "/* On hover */\n",
       "#sk-container-id-1 a.estimator_doc_link:hover {\n",
       "  /* unfitted */\n",
       "  background-color: var(--sklearn-color-unfitted-level-3);\n",
       "  color: var(--sklearn-color-background);\n",
       "  text-decoration: none;\n",
       "}\n",
       "\n",
       "#sk-container-id-1 a.estimator_doc_link.fitted:hover {\n",
       "  /* fitted */\n",
       "  background-color: var(--sklearn-color-fitted-level-3);\n",
       "}\n",
       "</style><div id=\"sk-container-id-1\" class=\"sk-top-container\"><div class=\"sk-text-repr-fallback\"><pre>LinearRegression()</pre><b>In a Jupyter environment, please rerun this cell to show the HTML representation or trust the notebook. <br />On GitHub, the HTML representation is unable to render, please try loading this page with nbviewer.org.</b></div><div class=\"sk-container\" hidden><div class=\"sk-item\"><div class=\"sk-estimator fitted sk-toggleable\"><input class=\"sk-toggleable__control sk-hidden--visually\" id=\"sk-estimator-id-1\" type=\"checkbox\" checked><label for=\"sk-estimator-id-1\" class=\"sk-toggleable__label fitted sk-toggleable__label-arrow fitted\">&nbsp;&nbsp;LinearRegression<a class=\"sk-estimator-doc-link fitted\" rel=\"noreferrer\" target=\"_blank\" href=\"https://scikit-learn.org/1.4/modules/generated/sklearn.linear_model.LinearRegression.html\">?<span>Documentation for LinearRegression</span></a><span class=\"sk-estimator-doc-link fitted\">i<span>Fitted</span></span></label><div class=\"sk-toggleable__content fitted\"><pre>LinearRegression()</pre></div> </div></div></div></div>"
      ],
      "text/plain": [
       "LinearRegression()"
      ]
     },
     "execution_count": 37,
     "metadata": {},
     "output_type": "execute_result"
    }
   ],
   "source": [
    "from sklearn.linear_model import LinearRegression\n",
    "\n",
    "Ir = LinearRegression()\n",
    "Ir.fit(X,Y)"
   ]
  },
  {
   "cell_type": "code",
   "execution_count": 38,
   "id": "f339541d-8461-4672-99ab-73721c8e2c7f",
   "metadata": {},
   "outputs": [
    {
     "data": {
      "text/plain": [
       "array([5.22215108])"
      ]
     },
     "execution_count": 38,
     "metadata": {},
     "output_type": "execute_result"
    }
   ],
   "source": [
    "Ir.intercept_"
   ]
  },
  {
   "cell_type": "code",
   "execution_count": 40,
   "id": "d0b03dd9-9da7-4b78-ac89-65b2cd29f2f8",
   "metadata": {},
   "outputs": [
    {
     "data": {
      "text/plain": [
       "array([[1.97897834]])"
      ]
     },
     "execution_count": 40,
     "metadata": {},
     "output_type": "execute_result"
    }
   ],
   "source": [
    "Ir.coef_"
   ]
  },
  {
   "cell_type": "code",
   "execution_count": null,
   "id": "29ad20e3-1641-4507-aefd-0f5c32321fa5",
   "metadata": {},
   "outputs": [],
   "source": [
    "#QR Decomposition\n",
    "A = QR\n"
   ]
  },
  {
   "cell_type": "code",
   "execution_count": 42,
   "id": "d296a0dc-bb1c-435a-956e-1365be14894a",
   "metadata": {},
   "outputs": [
    {
     "data": {
      "text/plain": [
       "array([[1.        , 1.64644051],\n",
       "       [1.        , 2.1455681 ],\n",
       "       [1.        , 1.80829013],\n",
       "       [1.        , 1.63464955],\n",
       "       [1.        , 1.2709644 ],\n",
       "       [1.        , 1.93768234],\n",
       "       [1.        , 1.31276163],\n",
       "       [1.        , 2.675319  ],\n",
       "       [1.        , 2.89098828],\n",
       "       [1.        , 1.15032456],\n",
       "       [1.        , 2.37517511],\n",
       "       [1.        , 1.58668476],\n",
       "       [1.        , 1.70413368],\n",
       "       [1.        , 2.77678991],\n",
       "       [1.        , 0.21310817],\n",
       "       [1.        , 0.2613879 ],\n",
       "       [1.        , 0.06065519],\n",
       "       [1.        , 2.49785954],\n",
       "       [1.        , 2.33447025],\n",
       "       [1.        , 2.61003644],\n",
       "       [1.        , 2.93585503],\n",
       "       [1.        , 2.39747569],\n",
       "       [1.        , 1.38443809],\n",
       "       [1.        , 2.34158753],\n",
       "       [1.        , 0.35482328],\n",
       "       [1.        , 1.91976306],\n",
       "       [1.        , 0.43005986],\n",
       "       [1.        , 2.83400675],\n",
       "       [1.        , 1.56554497],\n",
       "       [1.        , 1.24398582],\n",
       "       [1.        , 0.79366684],\n",
       "       [1.        , 2.32270107],\n",
       "       [1.        , 1.368451  ],\n",
       "       [1.        , 1.70530185],\n",
       "       [1.        , 0.0563694 ],\n",
       "       [1.        , 1.85290649],\n",
       "       [1.        , 1.83628717],\n",
       "       [1.        , 1.85080199],\n",
       "       [1.        , 2.83124424],\n",
       "       [1.        , 2.0454609 ],\n",
       "       [1.        , 1.0785237 ],\n",
       "       [1.        , 1.31109586],\n",
       "       [1.        , 2.09289359],\n",
       "       [1.        , 0.18067641],\n",
       "       [1.        , 2.00030015],\n",
       "       [1.        , 2.01191361],\n",
       "       [1.        , 0.63114768],\n",
       "       [1.        , 0.38677889],\n",
       "       [1.        , 0.94628505],\n",
       "       [1.        , 1.09113231],\n",
       "       [1.        , 1.71059031],\n",
       "       [1.        , 1.31580454],\n",
       "       [1.        , 2.96512151],\n",
       "       [1.        , 0.30613443],\n",
       "       [1.        , 0.62663027],\n",
       "       [1.        , 0.48392855],\n",
       "       [1.        , 1.95932498],\n",
       "       [1.        , 0.75987481],\n",
       "       [1.        , 1.39893232],\n",
       "       [1.        , 0.73327678],\n",
       "       [1.        , 0.47690875],\n",
       "       [1.        , 0.33112542],\n",
       "       [1.        , 1.96898877],\n",
       "       [1.        , 0.41454885],\n",
       "       [1.        , 0.58974709],\n",
       "       [1.        , 1.10617551],\n",
       "       [1.        , 2.46297969],\n",
       "       [1.        , 0.29130383],\n",
       "       [1.        , 2.51383472],\n",
       "       [1.        , 0.28829522],\n",
       "       [1.        , 2.9293784 ],\n",
       "       [1.        , 1.4059536 ],\n",
       "       [1.        , 2.93028326],\n",
       "       [1.        , 1.81453656],\n",
       "       [1.        , 2.21779074],\n",
       "       [1.        , 0.11756338],\n",
       "       [1.        , 0.84842089],\n",
       "       [1.        , 0.36058968],\n",
       "       [1.        , 0.88842059],\n",
       "       [1.        , 0.35618316],\n",
       "       [1.        , 0.95394954],\n",
       "       [1.        , 1.24278898],\n",
       "       [1.        , 0.19244249],\n",
       "       [1.        , 2.07741636],\n",
       "       [1.        , 1.69980436],\n",
       "       [1.        , 0.79616847],\n",
       "       [1.        , 1.56974416],\n",
       "       [1.        , 0.28182153],\n",
       "       [1.        , 1.72783949],\n",
       "       [1.        , 2.78788859],\n",
       "       [1.        , 0.95570686],\n",
       "       [1.        , 2.00223114],\n",
       "       [1.        , 0.39539359],\n",
       "       [1.        , 2.14898161],\n",
       "       [1.        , 0.86821828],\n",
       "       [1.        , 0.54957409],\n",
       "       [1.        , 1.7595388 ],\n",
       "       [1.        , 0.06032264],\n",
       "       [1.        , 2.48682009],\n",
       "       [1.        , 0.01408643]])"
      ]
     },
     "execution_count": 42,
     "metadata": {},
     "output_type": "execute_result"
    }
   ],
   "source": [
    "Xb"
   ]
  },
  {
   "cell_type": "code",
   "execution_count": 43,
   "id": "b14716dd-4190-44c7-acd8-1d230d34235f",
   "metadata": {},
   "outputs": [],
   "source": [
    "Q,R = np.linalg.qr(Xb)"
   ]
  },
  {
   "cell_type": "code",
   "execution_count": 44,
   "id": "b7383343-76fb-4af2-8625-96ce903d670d",
   "metadata": {},
   "outputs": [
    {
     "data": {
      "text/plain": [
       "array([[-0.1       , -0.0263681 ],\n",
       "       [-0.1       , -0.08407706],\n",
       "       [-0.1       , -0.0450811 ],\n",
       "       [-0.1       , -0.02500484],\n",
       "       [-0.1       ,  0.01704432],\n",
       "       [-0.1       , -0.06004138],\n",
       "       [-0.1       ,  0.01221174],\n",
       "       [-0.1       , -0.14532668],\n",
       "       [-0.1       , -0.17026229],\n",
       "       [-0.1       ,  0.03099265],\n",
       "       [-0.1       , -0.11062415],\n",
       "       [-0.1       , -0.01945916],\n",
       "       [-0.1       , -0.03303857],\n",
       "       [-0.1       , -0.15705872],\n",
       "       [-0.1       ,  0.13935329],\n",
       "       [-0.1       ,  0.13377121],\n",
       "       [-0.1       ,  0.15697986],\n",
       "       [-0.1       , -0.12480888],\n",
       "       [-0.1       , -0.10591787],\n",
       "       [-0.1       , -0.13777874],\n",
       "       [-0.1       , -0.17544977],\n",
       "       [-0.1       , -0.11320253],\n",
       "       [-0.1       ,  0.00392453],\n",
       "       [-0.1       , -0.10674076],\n",
       "       [-0.1       ,  0.12296824],\n",
       "       [-0.1       , -0.05796956],\n",
       "       [-0.1       ,  0.11426941],\n",
       "       [-0.1       , -0.16367411],\n",
       "       [-0.1       , -0.01701499],\n",
       "       [-0.1       ,  0.02016357],\n",
       "       [-0.1       ,  0.0722293 ],\n",
       "       [-0.1       , -0.10455712],\n",
       "       [-0.1       ,  0.00577295],\n",
       "       [-0.1       , -0.03317363],\n",
       "       [-0.1       ,  0.15747538],\n",
       "       [-0.1       , -0.05023963],\n",
       "       [-0.1       , -0.04831811],\n",
       "       [-0.1       , -0.04999631],\n",
       "       [-0.1       , -0.16335471],\n",
       "       [-0.1       , -0.0725027 ],\n",
       "       [-0.1       ,  0.03929424],\n",
       "       [-0.1       ,  0.01240433],\n",
       "       [-0.1       , -0.07798686],\n",
       "       [-0.1       ,  0.14310304],\n",
       "       [-0.1       , -0.06728123],\n",
       "       [-0.1       , -0.06862398],\n",
       "       [-0.1       ,  0.09101971],\n",
       "       [-0.1       ,  0.11927354],\n",
       "       [-0.1       ,  0.05458363],\n",
       "       [-0.1       ,  0.03783644],\n",
       "       [-0.1       , -0.03378508],\n",
       "       [-0.1       ,  0.01185992],\n",
       "       [-0.1       , -0.17883355],\n",
       "       [-0.1       ,  0.12859763],\n",
       "       [-0.1       ,  0.09154201],\n",
       "       [-0.1       ,  0.10804113],\n",
       "       [-0.1       , -0.0625437 ],\n",
       "       [-0.1       ,  0.07613632],\n",
       "       [-0.1       ,  0.00224871],\n",
       "       [-0.1       ,  0.07921158],\n",
       "       [-0.1       ,  0.10885276],\n",
       "       [-0.1       ,  0.12570818],\n",
       "       [-0.1       , -0.06366102],\n",
       "       [-0.1       ,  0.11606279],\n",
       "       [-0.1       ,  0.09580643],\n",
       "       [-0.1       ,  0.03609715],\n",
       "       [-0.1       , -0.12077608],\n",
       "       [-0.1       ,  0.13031234],\n",
       "       [-0.1       , -0.12665593],\n",
       "       [-0.1       ,  0.13066019],\n",
       "       [-0.1       , -0.17470094],\n",
       "       [-0.1       ,  0.00143691],\n",
       "       [-0.1       , -0.17480556],\n",
       "       [-0.1       , -0.04580331],\n",
       "       [-0.1       , -0.09242742],\n",
       "       [-0.1       ,  0.15040015],\n",
       "       [-0.1       ,  0.06589865],\n",
       "       [-0.1       ,  0.12230153],\n",
       "       [-0.1       ,  0.0612739 ],\n",
       "       [-0.1       ,  0.12281101],\n",
       "       [-0.1       ,  0.05369747],\n",
       "       [-0.1       ,  0.02030195],\n",
       "       [-0.1       ,  0.14174265],\n",
       "       [-0.1       , -0.07619738],\n",
       "       [-0.1       , -0.03253801],\n",
       "       [-0.1       ,  0.07194006],\n",
       "       [-0.1       , -0.0175005 ],\n",
       "       [-0.1       ,  0.13140868],\n",
       "       [-0.1       , -0.03577942],\n",
       "       [-0.1       , -0.15834194],\n",
       "       [-0.1       ,  0.05349429],\n",
       "       [-0.1       , -0.06750449],\n",
       "       [-0.1       ,  0.11827752],\n",
       "       [-0.1       , -0.08447173],\n",
       "       [-0.1       ,  0.06360969],\n",
       "       [-0.1       ,  0.10045122],\n",
       "       [-0.1       , -0.03944449],\n",
       "       [-0.1       ,  0.1570183 ],\n",
       "       [-0.1       , -0.1235325 ],\n",
       "       [-0.1       ,  0.16236412]])"
      ]
     },
     "execution_count": 44,
     "metadata": {},
     "output_type": "execute_result"
    }
   ],
   "source": [
    "Q"
   ]
  },
  {
   "cell_type": "code",
   "execution_count": 45,
   "id": "5156627a-4d58-43e6-b6ab-7cd13ccb5e3a",
   "metadata": {},
   "outputs": [
    {
     "data": {
      "text/plain": [
       "array([[-10.        , -14.18381519],\n",
       "       [  0.        ,  -8.64904815]])"
      ]
     },
     "execution_count": 45,
     "metadata": {},
     "output_type": "execute_result"
    }
   ],
   "source": [
    "R"
   ]
  },
  {
   "cell_type": "code",
   "execution_count": 46,
   "id": "78c4a429-f175-495d-a891-7dfce6c97840",
   "metadata": {},
   "outputs": [
    {
     "ename": "SyntaxError",
     "evalue": "incomplete input (185540570.py, line 1)",
     "output_type": "error",
     "traceback": [
      "\u001b[1;36m  Cell \u001b[1;32mIn[46], line 1\u001b[1;36m\u001b[0m\n\u001b[1;33m    theta = np.linalg.inv(R).dot(Q.T.dot(y)\u001b[0m\n\u001b[1;37m                                           ^\u001b[0m\n\u001b[1;31mSyntaxError\u001b[0m\u001b[1;31m:\u001b[0m incomplete input\n"
     ]
    }
   ],
   "source": [
    "theta = np.linalg.inv(R).dot(Q.T.dot(y)"
   ]
  },
  {
   "cell_type": "code",
   "execution_count": 47,
   "id": "6b7853fb-16b2-4de7-8253-aa5c6a4fac31",
   "metadata": {},
   "outputs": [
    {
     "data": {
      "text/plain": [
       "array([[5.22215108],\n",
       "       [1.97897834]])"
      ]
     },
     "execution_count": 47,
     "metadata": {},
     "output_type": "execute_result"
    }
   ],
   "source": [
    "theta"
   ]
  },
  {
   "cell_type": "code",
   "execution_count": 48,
   "id": "85d3a180-73df-4134-996b-cfabe2ed33c5",
   "metadata": {},
   "outputs": [],
   "source": [
    "#Creating a scatter plot"
   ]
  },
  {
   "cell_type": "code",
   "execution_count": 49,
   "id": "3d172e3c-f8ad-4c15-81b9-07242681b914",
   "metadata": {},
   "outputs": [],
   "source": [
    "y_pred = Xb.dot(theta)"
   ]
  },
  {
   "cell_type": "code",
   "execution_count": 50,
   "id": "839f9610-dd31-4cc6-9417-3388816e08de",
   "metadata": {},
   "outputs": [
    {
     "data": {
      "image/png": "[encoded data removed]",
      "text/plain": [
       "<Figure size 640x480 with 1 Axes>"
      ]
     },
     "metadata": {},
     "output_type": "display_data"
    }
   ],
   "source": [
    "plt.plot(X, y_pred, \"r-\", label = \"Regression line\")\n",
    "plt.scatter(X,Y)\n",
    "plt.title(\"Data\")\n",
    "plt.xlabel(\"X - Data\")\n",
    "plt.ylabel(\"Y - Outout\")\n",
    "plt.legend()\n",
    "plt.show()\n"
   ]
  },
  {
   "cell_type": "code",
   "execution_count": 51,
   "id": "0d6de353-d70a-4392-ae9c-3c6d9acebbd1",
   "metadata": {},
   "outputs": [],
   "source": [
    "#Another method is uding the PseudoInverse"
   ]
  },
  {
   "cell_type": "code",
   "execution_count": 52,
   "id": "aa6df488-a5b1-448e-bb82-5d6dadd802be",
   "metadata": {},
   "outputs": [
    {
     "ename": "NameError",
     "evalue": "name 'y' is not defined",
     "output_type": "error",
     "traceback": [
      "\u001b[1;31m---------------------------------------------------------------------------\u001b[0m",
      "\u001b[1;31mNameError\u001b[0m                                 Traceback (most recent call last)",
      "Cell \u001b[1;32mIn[52], line 1\u001b[0m\n\u001b[1;32m----> 1\u001b[0m theta \u001b[38;5;241m=\u001b[39m np\u001b[38;5;241m.\u001b[39mlinalg\u001b[38;5;241m.\u001b[39mpinv(Xb)\u001b[38;5;241m.\u001b[39mdot(y)\n",
      "\u001b[1;31mNameError\u001b[0m: name 'y' is not defined"
     ]
    }
   ],
   "source": [
    "theta = np.linalg.pinv(Xb).dot(y)"
   ]
  },
  {
   "cell_type": "code",
   "execution_count": 53,
   "id": "a0701af4-8ce1-4cd2-9abb-cc14349d0794",
   "metadata": {},
   "outputs": [
    {
     "data": {
      "text/plain": [
       "array([[5.22215108],\n",
       "       [1.97897834]])"
      ]
     },
     "execution_count": 53,
     "metadata": {},
     "output_type": "execute_result"
    }
   ],
   "source": [
    "theta"
   ]
  },
  {
   "cell_type": "code",
   "execution_count": null,
   "id": "509ad97f-c31b-4435-8848-80a0a68241a6",
   "metadata": {},
   "outputs": [],
   "source": [
    "y_pred = Xb.dot(theta)"
   ]
  },
  {
   "cell_type": "code",
   "execution_count": 54,
   "id": "fe42e430-6376-434d-a7fb-7d11fc350fef",
   "metadata": {},
   "outputs": [
    {
     "data": {
      "image/png": "[encoded data removed]",
      "text/plain": [
       "<Figure size 640x480 with 1 Axes>"
      ]
     },
     "metadata": {},
     "output_type": "display_data"
    }
   ],
   "source": [
    "plt.plot(X, y_pred, \"r-\", label = \"Regression line\")\n",
    "plt.scatter(X,Y)\n",
    "plt.title(\"Data\")\n",
    "plt.xlabel(\"X - Data\")\n",
    "plt.ylabel(\"Y - Outout\")\n",
    "plt.legend()\n",
    "plt.show()"
   ]
  }
 ],
 "metadata": {
  "kernelspec": {
   "display_name": "Python 3 (ipykernel)",
   "language": "python",
   "name": "python3"
  },
  "language_info": {
   "codemirror_mode": {
    "name": "ipython",
    "version": 3
   },
   "file_extension": ".py",
   "mimetype": "text/x-python",
   "name": "python",
   "nbconvert_exporter": "python",
   "pygments_lexer": "ipython3",
   "version": "3.12.4"
  }
 },
 "nbformat": 4,
 "nbformat_minor": 5
}
